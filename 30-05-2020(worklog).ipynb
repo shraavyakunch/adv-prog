{
 "cells": [
  {
   "cell_type": "code",
   "execution_count": 1,
   "metadata": {},
   "outputs": [
    {
     "name": "stdout",
     "output_type": "stream",
     "text": [
      "12\n",
      "Adam Number\n"
     ]
    }
   ],
   "source": [
    "#Adam Number: Reversing a number n square\n",
    "n=int(input())\n",
    "if int(str(n**2)[::-1])== int (str(n)[::-1])**2:\n",
    "    print(\"Adam Number\")\n",
    "else:\n",
    "    print(\"Not Adam Number\")\n"
   ]
  },
  {
   "cell_type": "code",
   "execution_count": 2,
   "metadata": {},
   "outputs": [
    {
     "name": "stdout",
     "output_type": "stream",
     "text": [
      "12\n",
      "Adam Number\n"
     ]
    }
   ],
   "source": [
    "#Conditional Operator : [on True] if [condition] else [On False]\n",
    "n=int(input())\n",
    "print(\"Adam Number\") if int(str(n**2)[::-1])== int (str(n)[::-1])**2 else print(\"Not Adam Number\")\n"
   ]
  },
  {
   "cell_type": "code",
   "execution_count": 3,
   "metadata": {},
   "outputs": [
    {
     "name": "stdout",
     "output_type": "stream",
     "text": [
      "enter a number12\n",
      "Adam Number\n"
     ]
    }
   ],
   "source": [
    "def Adam(n):\n",
    "    if int(str(n**2)[::-1])== int (str(n)[::-1])**2:\n",
    "        return True\n",
    "    else:\n",
    "        return False\n",
    "value= int(input(\"enter a number\"))\n",
    "if Adam(value):\n",
    "    print(\"Adam Number\")\n",
    "else:\n",
    "    print(\"Not Adam Number\")\n",
    "\n"
   ]
  },
  {
   "cell_type": "code",
   "execution_count": 5,
   "metadata": {},
   "outputs": [
    {
     "data": {
      "text/plain": [
       "120"
      ]
     },
     "execution_count": 5,
     "metadata": {},
     "output_type": "execute_result"
    }
   ],
   "source": [
    "#Recursive Functions:\n",
    "#Factorial of a number\n",
    "def factorial(n):\n",
    "    if n == 0 or n==1:\n",
    "        return 1\n",
    "    else:\n",
    "        return n*factorial(n-1)\n",
    "factorial(5)"
   ]
  },
  {
   "cell_type": "code",
   "execution_count": 6,
   "metadata": {},
   "outputs": [
    {
     "name": "stdout",
     "output_type": "stream",
     "text": [
      "1\n",
      "5\n",
      "1 2 3 4 5 "
     ]
    }
   ],
   "source": [
    "#Lower bound and Upper bound\n",
    "def display(lb,ub):\n",
    "    if(lb>ub):\n",
    "        return\n",
    "    else:\n",
    "        print(lb,end=\" \")\n",
    "        return display(lb+1,ub)\n",
    "lb=int(input())\n",
    "ub=int(input())\n",
    "display(lb,ub)\n"
   ]
  },
  {
   "cell_type": "code",
   "execution_count": 7,
   "metadata": {},
   "outputs": [
    {
     "data": {
      "text/plain": [
       "3"
      ]
     },
     "execution_count": 7,
     "metadata": {},
     "output_type": "execute_result"
    }
   ],
   "source": [
    "#Fibonacci series: 0,1,1,2,3,5,8,13.....\n",
    "def fib(n):\n",
    "    if n==1:\n",
    "        return 0\n",
    "    elif n==2:\n",
    "        return 1\n",
    "    else:\n",
    "        return fib(n-1)+fib(n-2)\n",
    "fib(5)"
   ]
  },
  {
   "cell_type": "code",
   "execution_count": 11,
   "metadata": {},
   "outputs": [
    {
     "name": "stdout",
     "output_type": "stream",
     "text": [
      "length of list 6\n",
      "6.6\n",
      "45\n",
      "['p', 'y', 't', 'h', 'o', 'n']\n",
      "t\n",
      "6\n"
     ]
    }
   ],
   "source": [
    "#Built-in functions : len(),min(),max(),list()\n",
    "list1=[12,34,45,6,\"str\",True]\n",
    "list2=[34,45,6.6,45]\n",
    "list3=[34,45,6.6,45,[12,23,34,45,[12,34,45,6]]]\n",
    "string=\"python\"\n",
    "print(\"length of list\",len(list1))\n",
    "print(min(list2))\n",
    "print(max(list2))\n",
    "print(list(string))\n",
    "print(list1[4][-2])\n",
    "print(list3[4][4][3])\n"
   ]
  },
  {
   "cell_type": "code",
   "execution_count": 15,
   "metadata": {},
   "outputs": [],
   "source": [
    "#Built in methods:¶\n",
    "#Adding an element:\n",
    "#append()\n",
    "#insert()\n",
    "#extend()"
   ]
  },
  {
   "cell_type": "code",
   "execution_count": 16,
   "metadata": {},
   "outputs": [
    {
     "name": "stdout",
     "output_type": "stream",
     "text": [
      "[1, 2, 3, 4, 5, 6]\n",
      "[1, 2, 3, 4, 5, 6, 7]\n"
     ]
    }
   ],
   "source": [
    "#append()\n",
    "list1 = [1,2,3,4,5]\n",
    "list1.append(6)\n",
    "print(list1)\n",
    "list1.append(7)\n",
    "print(list1)\n"
   ]
  },
  {
   "cell_type": "code",
   "execution_count": 17,
   "metadata": {},
   "outputs": [
    {
     "name": "stdout",
     "output_type": "stream",
     "text": [
      "[1, 2, 100, 3, 4, 5, 6, 7]\n"
     ]
    }
   ],
   "source": [
    "#insert() -->inserting an element at a given position\n",
    "list1.insert(2,100)\n",
    "print(list1)\n"
   ]
  },
  {
   "cell_type": "code",
   "execution_count": 18,
   "metadata": {},
   "outputs": [
    {
     "name": "stdout",
     "output_type": "stream",
     "text": [
      "[1, 2, 100, 3, 4, 5, 6, 7, 8, 9, 10]\n"
     ]
    }
   ],
   "source": [
    "#extend() : inserting multiple values\n",
    "list1.extend([8,9,10])\n",
    "print(list1)\n"
   ]
  },
  {
   "cell_type": "code",
   "execution_count": 19,
   "metadata": {},
   "outputs": [
    {
     "name": "stdout",
     "output_type": "stream",
     "text": [
      "[1, 2, 100, 3, 4, 5, 6, 7, 8, 9]\n",
      "[1, 2, 3, 4, 5, 6, 7, 8, 9]\n"
     ]
    }
   ],
   "source": [
    "#Removing elements:\n",
    "list1.pop()\n",
    "print(list1)\n",
    "list1.pop(2) #pop(2) --> index value\n",
    "print(list1)\n"
   ]
  },
  {
   "cell_type": "code",
   "execution_count": 20,
   "metadata": {},
   "outputs": [
    {
     "name": "stdout",
     "output_type": "stream",
     "text": [
      "1\n",
      "3\n"
     ]
    }
   ],
   "source": [
    "list1=[23,34,45,56,45,45]\n",
    "print(list1.index(34)) #index()-->returns index of an element\n",
    "print(list1.count(45)) #count()-->returns the frequency of elements\n"
   ]
  },
  {
   "cell_type": "code",
   "execution_count": 21,
   "metadata": {},
   "outputs": [
    {
     "name": "stdout",
     "output_type": "stream",
     "text": [
      "[23, 34, 45, 45, 45, 56]\n"
     ]
    }
   ],
   "source": [
    "list1.sort()\n",
    "print(list1)\n"
   ]
  },
  {
   "cell_type": "code",
   "execution_count": 22,
   "metadata": {},
   "outputs": [
    {
     "name": "stdout",
     "output_type": "stream",
     "text": [
      "[56, 45, 45, 45, 34, 23]\n",
      "[23, 34, 45, 45, 45, 56]\n"
     ]
    }
   ],
   "source": [
    "#Descending order\n",
    "list1.sort(reverse=True)\n",
    "print(list1)\n",
    "#Ascending order\n",
    "list1.sort(reverse=False)\n",
    "print(list1)\n"
   ]
  },
  {
   "cell_type": "code",
   "execution_count": 23,
   "metadata": {},
   "outputs": [
    {
     "name": "stdout",
     "output_type": "stream",
     "text": [
      "[56, 45, 45, 45, 34, 23]\n"
     ]
    }
   ],
   "source": [
    "#reverse\n",
    "list1.reverse()\n",
    "print(list1)\n"
   ]
  },
  {
   "cell_type": "code",
   "execution_count": 24,
   "metadata": {},
   "outputs": [
    {
     "name": "stdout",
     "output_type": "stream",
     "text": [
      "[1, 2, 3, 4, 5]\n",
      "[1, 2, 3, 4, 5]\n",
      "[1, 2, 3, 4, 5, 6, 7] [1, 2, 3, 4, 5, 6, 7] [1, 2, 3, 4, 5]\n"
     ]
    }
   ],
   "source": [
    "list1=[1,2,3,4,5]\n",
    "list2=[]\n",
    "list3=[]\n",
    "list2=list1 #deep copy is done by using assignment operator\n",
    "print(list2)\n",
    "list3=list1.copy() #shallow copy is done by copy()\n",
    "print(list3)\n",
    "list1.append(6)\n",
    "list1.append(7)\n",
    "print(list1,list2,list3)\n"
   ]
  },
  {
   "cell_type": "markdown",
   "metadata": {},
   "source": [
    "#File Handling:¶\n",
    "create\n",
    "add some text\n",
    "save\n",
    "read\n",
    "appending\n",
    "rename\n",
    "remove\n",
    "Modes:\n",
    "write(w)--> file is not available new file will be created\n",
    "read(r)-->file must be available\n",
    "append(a)-->file is not available new file\n",
    "new file creation(x)--> new file is created if file is there it throws an error\n",
    "open()\n",
    "close()"
   ]
  },
  {
   "cell_type": "code",
   "execution_count": 26,
   "metadata": {},
   "outputs": [],
   "source": [
    "f = open(\"sample.txt\",\"w\")\n",
    "f.write(\"Hello Everyone\")\n",
    "f.close()"
   ]
  },
  {
   "cell_type": "code",
   "execution_count": 27,
   "metadata": {},
   "outputs": [
    {
     "name": "stdout",
     "output_type": "stream",
     "text": [
      "Hello Everyone\n"
     ]
    }
   ],
   "source": [
    "f = open(\"sample.txt\",\"r\")\n",
    "data=f.read()\n",
    "print(data)\n",
    "f.close()\n"
   ]
  },
  {
   "cell_type": "code",
   "execution_count": 28,
   "metadata": {},
   "outputs": [],
   "source": [
    "f=open(\"sample.txt\",\"a\")\n",
    "s=''' How are you doing?\n",
    "Stay safe!!!'''\n",
    "f.write(s)\n",
    "f.close()\n"
   ]
  },
  {
   "cell_type": "code",
   "execution_count": 29,
   "metadata": {},
   "outputs": [
    {
     "name": "stdout",
     "output_type": "stream",
     "text": [
      "Hello Everyone How are you doing?\n",
      "Stay safe!!!\n"
     ]
    }
   ],
   "source": [
    "f = open(\"sample.txt\",\"r\")\n",
    "data=f.read()\n",
    "print(data)\n",
    "f.close()\n"
   ]
  },
  {
   "cell_type": "code",
   "execution_count": null,
   "metadata": {},
   "outputs": [],
   "source": []
  }
 ],
 "metadata": {
  "kernelspec": {
   "display_name": "Python 3",
   "language": "python",
   "name": "python3"
  },
  "language_info": {
   "codemirror_mode": {
    "name": "ipython",
    "version": 3
   },
   "file_extension": ".py",
   "mimetype": "text/x-python",
   "name": "python",
   "nbconvert_exporter": "python",
   "pygments_lexer": "ipython3",
   "version": "3.7.6"
  }
 },
 "nbformat": 4,
 "nbformat_minor": 4
}
