{
 "cells": [
  {
   "cell_type": "code",
   "execution_count": 5,
   "metadata": {},
   "outputs": [
    {
     "name": "stdout",
     "output_type": "stream",
     "text": [
      "1\n",
      "2\n",
      "3\n",
      "4\n"
     ]
    }
   ],
   "source": [
    "#loop control statements : break,continue\n",
    "for i in range(1,11):\n",
    "    if i % 5 == 0:\n",
    "         break\n",
    "    else:\n",
    "        print(i)\n",
    "        "
   ]
  },
  {
   "cell_type": "code",
   "execution_count": 1,
   "metadata": {},
   "outputs": [
    {
     "name": "stdout",
     "output_type": "stream",
     "text": [
      "1\n",
      "2\n",
      "3\n",
      "4\n",
      "6\n",
      "7\n",
      "8\n",
      "9\n"
     ]
    }
   ],
   "source": [
    "for i in range(1,11):\n",
    "    if i % 5 == 0:\n",
    "        continue\n",
    "    else: \n",
    "        print(i)"
   ]
  },
  {
   "cell_type": "code",
   "execution_count": 2,
   "metadata": {},
   "outputs": [],
   "source": [
    "#Program to validate the username and password given by the user.if give wrong it should ask the username and password again and again until user gives the correct credentials\n",
    "\n"
   ]
  },
  {
   "cell_type": "code",
   "execution_count": 3,
   "metadata": {},
   "outputs": [
    {
     "name": "stdout",
     "output_type": "stream",
     "text": [
      "enter your name: shraavya\n",
      "enter your name: python\n",
      "enter your password: hdhjsiwha\n",
      "enter your name: python\n",
      "enter your password: abc123\n",
      "Login Successful!!\n"
     ]
    }
   ],
   "source": [
    "#username:python\n",
    "#password:abc123\n",
    "while True:\n",
    "  user=input(\"enter your name: \")\n",
    "  if user == \"python\":\n",
    "     pwd=input(\"enter your password: \")\n",
    "     if pwd==\"abc123\":\n",
    "        print(\"Login Successful!!\")\n",
    "        break\n",
    "  else:\n",
    "     continue"
   ]
  },
  {
   "cell_type": "code",
   "execution_count": null,
   "metadata": {},
   "outputs": [],
   "source": [
    "Functions:\n",
    "block of statements\n",
    "\n",
    "1.predefined(which are already)\n",
    "\n",
    "   -len(),print(),input(),min(),max()\n",
    "2.user-defined(custom function)\n",
    "\n",
    "```def function_name(parameter list):\n",
    "\n",
    "   statements\n",
    " \n",
    "   return ```\n"
   ]
  },
  {
   "cell_type": "code",
   "execution_count": 9,
   "metadata": {},
   "outputs": [
    {
     "name": "stdout",
     "output_type": "stream",
     "text": [
      "hello shraavya\n"
     ]
    }
   ],
   "source": [
    "def name(username):#Function definition\n",
    "    print(\"hello\",username)\n",
    "\n",
    "name(\"shraavya\")#Function calling"
   ]
  },
  {
   "cell_type": "code",
   "execution_count": 10,
   "metadata": {},
   "outputs": [
    {
     "name": "stdout",
     "output_type": "stream",
     "text": [
      "(30, -10, 200, 0.5)\n",
      "(300, -100, 20000, 0.5)\n",
      "(330, -110, 24200, 0.5)\n"
     ]
    }
   ],
   "source": [
    "def addition(a,b):\n",
    "    return a+b,a-b,a*b,a/b\n",
    "    \n",
    "print(addition(10,20))\n",
    "print(addition(100,200))\n",
    "print(addition(110,220))\n"
   ]
  },
  {
   "cell_type": "code",
   "execution_count": 11,
   "metadata": {},
   "outputs": [
    {
     "name": "stdout",
     "output_type": "stream",
     "text": [
      "-10\n"
     ]
    }
   ],
   "source": [
    "#Multiple return values\n",
    "def arithmetic(a,b):\n",
    "    return a+b,a-b,a*b,a/b\n",
    "\n",
    "#unpacking\n",
    "add,sub,mul,div = arithmetic(10,20)\n",
    "print(sub)"
   ]
  },
  {
   "cell_type": "code",
   "execution_count": null,
   "metadata": {},
   "outputs": [],
   "source": [
    "Different Types Of arguments\n",
    "1.required positional arguments\n",
    "\n",
    "2.default argument\n",
    "\n",
    "3.keyword argument\n",
    "\n",
    "4.vatiable length argument\n",
    "\n"
   ]
  },
  {
   "cell_type": "code",
   "execution_count": 13,
   "metadata": {},
   "outputs": [
    {
     "data": {
      "text/plain": [
       "30"
      ]
     },
     "execution_count": 13,
     "metadata": {},
     "output_type": "execute_result"
    }
   ],
   "source": [
    "def add(a,b):\n",
    "    return(a+b)\n",
    "add(10,20)\n",
    "#add(10,20,30)\n",
    "    "
   ]
  },
  {
   "cell_type": "code",
   "execution_count": 14,
   "metadata": {},
   "outputs": [
    {
     "name": "stdout",
     "output_type": "stream",
     "text": [
      "200\n",
      "400\n"
     ]
    }
   ],
   "source": [
    "#default argument \n",
    "#default argument should be at the end of arg list\n",
    "def add(a,b=100):\n",
    "    return a+b\n",
    "\n",
    "print(add(100))\n",
    "print(add(200,200))    "
   ]
  },
  {
   "cell_type": "code",
   "execution_count": 15,
   "metadata": {},
   "outputs": [
    {
     "name": "stdout",
     "output_type": "stream",
     "text": [
      "a value: 20\n",
      "b value: 10\n"
     ]
    },
    {
     "data": {
      "text/plain": [
       "30"
      ]
     },
     "execution_count": 15,
     "metadata": {},
     "output_type": "execute_result"
    }
   ],
   "source": [
    "#keyword argument:\n",
    "def add(a,b):\n",
    "    print(\"a value:\",a)\n",
    "    print(\"b value:\",b)\n",
    "    return(a+b)\n",
    "add(b=10,a=20)   "
   ]
  },
  {
   "cell_type": "code",
   "execution_count": 16,
   "metadata": {},
   "outputs": [
    {
     "name": "stdout",
     "output_type": "stream",
     "text": [
      "200\n",
      "6000\n",
      "240000\n"
     ]
    }
   ],
   "source": [
    "#variable length arguments\n",
    "#(120,230,34,450,460)-->Tuple\n",
    "def add(*a):\n",
    "    m = 1\n",
    "    for i in a:\n",
    "        m = m*i \n",
    "    return m\n",
    "\n",
    "print(add(10,20))\n",
    "print(add(10,20,30))\n",
    "print(add(10,20,30,40))"
   ]
  },
  {
   "cell_type": "code",
   "execution_count": 17,
   "metadata": {},
   "outputs": [
    {
     "name": "stdout",
     "output_type": "stream",
     "text": [
      "100\n",
      "1000\n"
     ]
    }
   ],
   "source": [
    "#Nested Functions : square,cube\n",
    "def square(a):\n",
    "    return a*a\n",
    "\n",
    "def cube(x):\n",
    "    return square(x)*x\n",
    "\n",
    "print(square(10))\n",
    "print(cube(10))        "
   ]
  },
  {
   "cell_type": "code",
   "execution_count": null,
   "metadata": {},
   "outputs": [],
   "source": [
    "# Data Structures\n",
    "**List**:\n",
    "   \n",
    "\n",
    "*   Collection of elements enclosed in[] and seperated by ,\n",
    "*   lists are mutable,indexed,ordered adn allows duplicate values\n",
    "*   list allows heterogenous values\n",
    "\n",
    "\n",
    "\n"
   ]
  },
  {
   "cell_type": "code",
   "execution_count": 18,
   "metadata": {},
   "outputs": [
    {
     "name": "stdout",
     "output_type": "stream",
     "text": [
      "<class 'list'>\n"
     ]
    }
   ],
   "source": [
    "list1=[12,23.45,True,\"abc\",12]\n",
    "print(type(list1))#operators supported by list : +,*,[],[:],in,not in\n",
    "list1=[1,2,3]\n",
    "list2=[10,20,30]\n",
    "print(list1+list2)#concatenation\n",
    "print(list1*3)#repitition\n",
    "print(list1[1])#2\n",
    "print(list1[1:3])#[1,2]\n",
    "print(2 in list1)#true\n",
    "print(200 in list1)#False"
   ]
  },
  {
   "cell_type": "code",
   "execution_count": 19,
   "metadata": {},
   "outputs": [
    {
     "name": "stdout",
     "output_type": "stream",
     "text": [
      "4\n",
      "1\n",
      "40\n",
      "['p', 'y', 't', 'h', 'o', 'n']\n",
      "[1, 2, 3, 100]\n"
     ]
    }
   ],
   "source": [
    "#Built-in functions:len(),min(),max(),list()\n",
    "list1 = [1,2,3,40]\n",
    "s1=\"python\"\n",
    "print(len(list1))\n",
    "print(min(list1))\n",
    "print(max(list1))\n",
    "list2 = list(s1)\n",
    "print(list2)\n",
    "list1[-1] = 100\n",
    "print(list1)"
   ]
  },
  {
   "cell_type": "code",
   "execution_count": null,
   "metadata": {},
   "outputs": [],
   "source": []
  }
 ],
 "metadata": {
  "kernelspec": {
   "display_name": "Python 3",
   "language": "python",
   "name": "python3"
  },
  "language_info": {
   "codemirror_mode": {
    "name": "ipython",
    "version": 3
   },
   "file_extension": ".py",
   "mimetype": "text/x-python",
   "name": "python",
   "nbconvert_exporter": "python",
   "pygments_lexer": "ipython3",
   "version": "3.7.6"
  }
 },
 "nbformat": 4,
 "nbformat_minor": 4
}
