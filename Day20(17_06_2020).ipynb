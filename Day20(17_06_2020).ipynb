{
  "nbformat": 4,
  "nbformat_minor": 0,
  "metadata": {
    "colab": {
      "name": "Day20(17-06-2020).ipynb",
      "provenance": []
    },
    "kernelspec": {
      "name": "python3",
      "display_name": "Python 3"
    }
  },
  "cells": [
    {
      "cell_type": "code",
      "metadata": {
        "id": "T_z5OX-Vonlm",
        "colab_type": "code",
        "colab": {}
      },
      "source": [
        "import pandas as pd\n",
        "import numpy as np\n",
        "import sklearn"
      ],
      "execution_count": 1,
      "outputs": []
    },
    {
      "cell_type": "code",
      "metadata": {
        "id": "3ccYoUZQpFc1",
        "colab_type": "code",
        "colab": {
          "base_uri": "https://localhost:8080/",
          "height": 438
        },
        "outputId": "44c567a0-a5f1-4642-e639-03370daf01de"
      },
      "source": [
        "data = pd.read_csv(\"https://raw.githubusercontent.com/Mounika-kajjam/Datasets/master/homeprices.csv\")\n",
        "data"
      ],
      "execution_count": 3,
      "outputs": [
        {
          "output_type": "execute_result",
          "data": {
            "text/html": [
              "<div>\n",
              "<style scoped>\n",
              "    .dataframe tbody tr th:only-of-type {\n",
              "        vertical-align: middle;\n",
              "    }\n",
              "\n",
              "    .dataframe tbody tr th {\n",
              "        vertical-align: top;\n",
              "    }\n",
              "\n",
              "    .dataframe thead th {\n",
              "        text-align: right;\n",
              "    }\n",
              "</style>\n",
              "<table border=\"1\" class=\"dataframe\">\n",
              "  <thead>\n",
              "    <tr style=\"text-align: right;\">\n",
              "      <th></th>\n",
              "      <th>town</th>\n",
              "      <th>area</th>\n",
              "      <th>price</th>\n",
              "    </tr>\n",
              "  </thead>\n",
              "  <tbody>\n",
              "    <tr>\n",
              "      <th>0</th>\n",
              "      <td>monroe township</td>\n",
              "      <td>2600</td>\n",
              "      <td>550000</td>\n",
              "    </tr>\n",
              "    <tr>\n",
              "      <th>1</th>\n",
              "      <td>monroe township</td>\n",
              "      <td>3000</td>\n",
              "      <td>565000</td>\n",
              "    </tr>\n",
              "    <tr>\n",
              "      <th>2</th>\n",
              "      <td>monroe township</td>\n",
              "      <td>3200</td>\n",
              "      <td>610000</td>\n",
              "    </tr>\n",
              "    <tr>\n",
              "      <th>3</th>\n",
              "      <td>monroe township</td>\n",
              "      <td>3600</td>\n",
              "      <td>680000</td>\n",
              "    </tr>\n",
              "    <tr>\n",
              "      <th>4</th>\n",
              "      <td>monroe township</td>\n",
              "      <td>4000</td>\n",
              "      <td>725000</td>\n",
              "    </tr>\n",
              "    <tr>\n",
              "      <th>5</th>\n",
              "      <td>west windsor</td>\n",
              "      <td>2600</td>\n",
              "      <td>585000</td>\n",
              "    </tr>\n",
              "    <tr>\n",
              "      <th>6</th>\n",
              "      <td>west windsor</td>\n",
              "      <td>2800</td>\n",
              "      <td>615000</td>\n",
              "    </tr>\n",
              "    <tr>\n",
              "      <th>7</th>\n",
              "      <td>west windsor</td>\n",
              "      <td>3300</td>\n",
              "      <td>650000</td>\n",
              "    </tr>\n",
              "    <tr>\n",
              "      <th>8</th>\n",
              "      <td>west windsor</td>\n",
              "      <td>3600</td>\n",
              "      <td>710000</td>\n",
              "    </tr>\n",
              "    <tr>\n",
              "      <th>9</th>\n",
              "      <td>robinsville</td>\n",
              "      <td>2600</td>\n",
              "      <td>575000</td>\n",
              "    </tr>\n",
              "    <tr>\n",
              "      <th>10</th>\n",
              "      <td>robinsville</td>\n",
              "      <td>2900</td>\n",
              "      <td>600000</td>\n",
              "    </tr>\n",
              "    <tr>\n",
              "      <th>11</th>\n",
              "      <td>robinsville</td>\n",
              "      <td>3100</td>\n",
              "      <td>620000</td>\n",
              "    </tr>\n",
              "    <tr>\n",
              "      <th>12</th>\n",
              "      <td>robinsville</td>\n",
              "      <td>3600</td>\n",
              "      <td>695000</td>\n",
              "    </tr>\n",
              "  </tbody>\n",
              "</table>\n",
              "</div>"
            ],
            "text/plain": [
              "               town  area   price\n",
              "0   monroe township  2600  550000\n",
              "1   monroe township  3000  565000\n",
              "2   monroe township  3200  610000\n",
              "3   monroe township  3600  680000\n",
              "4   monroe township  4000  725000\n",
              "5      west windsor  2600  585000\n",
              "6      west windsor  2800  615000\n",
              "7      west windsor  3300  650000\n",
              "8      west windsor  3600  710000\n",
              "9       robinsville  2600  575000\n",
              "10      robinsville  2900  600000\n",
              "11      robinsville  3100  620000\n",
              "12      robinsville  3600  695000"
            ]
          },
          "metadata": {
            "tags": []
          },
          "execution_count": 3
        }
      ]
    },
    {
      "cell_type": "markdown",
      "metadata": {
        "id": "zyuYZ-Qzp0F6",
        "colab_type": "text"
      },
      "source": [
        "# **Dummy values using scikit-learn library**\n",
        "\n",
        "\n",
        "*   Label encoder\n",
        "*   one hot encoder\n",
        "\n"
      ]
    },
    {
      "cell_type": "markdown",
      "metadata": {
        "id": "MeKi6_KOp_Mw",
        "colab_type": "text"
      },
      "source": [
        "# **LabelEncoder-->we are creating dummy variables**\n",
        "\n",
        "\n",
        "*   class present in sklearn library\n",
        "*   created an object for LabelEncoder class\n",
        "\n",
        "*   to apply the object to the database(town)we use fit_transform method\n",
        "*   syntax:objectname.fit_transform(datasetname.column.name)\n",
        "\n",
        "\n",
        "\n"
      ]
    },
    {
      "cell_type": "code",
      "metadata": {
        "id": "QjMKNzAPpWrV",
        "colab_type": "code",
        "colab": {}
      },
      "source": [
        "from sklearn.preprocessing import LabelEncoder\n",
        "le = LabelEncoder()"
      ],
      "execution_count": 5,
      "outputs": []
    },
    {
      "cell_type": "code",
      "metadata": {
        "id": "hidyrZ56qqFz",
        "colab_type": "code",
        "colab": {
          "base_uri": "https://localhost:8080/",
          "height": 438
        },
        "outputId": "e1d63158-ee76-4a46-8a04-f412f6cbdb3d"
      },
      "source": [
        "price_data = data.copy()\n",
        "price_data"
      ],
      "execution_count": 6,
      "outputs": [
        {
          "output_type": "execute_result",
          "data": {
            "text/html": [
              "<div>\n",
              "<style scoped>\n",
              "    .dataframe tbody tr th:only-of-type {\n",
              "        vertical-align: middle;\n",
              "    }\n",
              "\n",
              "    .dataframe tbody tr th {\n",
              "        vertical-align: top;\n",
              "    }\n",
              "\n",
              "    .dataframe thead th {\n",
              "        text-align: right;\n",
              "    }\n",
              "</style>\n",
              "<table border=\"1\" class=\"dataframe\">\n",
              "  <thead>\n",
              "    <tr style=\"text-align: right;\">\n",
              "      <th></th>\n",
              "      <th>town</th>\n",
              "      <th>area</th>\n",
              "      <th>price</th>\n",
              "    </tr>\n",
              "  </thead>\n",
              "  <tbody>\n",
              "    <tr>\n",
              "      <th>0</th>\n",
              "      <td>monroe township</td>\n",
              "      <td>2600</td>\n",
              "      <td>550000</td>\n",
              "    </tr>\n",
              "    <tr>\n",
              "      <th>1</th>\n",
              "      <td>monroe township</td>\n",
              "      <td>3000</td>\n",
              "      <td>565000</td>\n",
              "    </tr>\n",
              "    <tr>\n",
              "      <th>2</th>\n",
              "      <td>monroe township</td>\n",
              "      <td>3200</td>\n",
              "      <td>610000</td>\n",
              "    </tr>\n",
              "    <tr>\n",
              "      <th>3</th>\n",
              "      <td>monroe township</td>\n",
              "      <td>3600</td>\n",
              "      <td>680000</td>\n",
              "    </tr>\n",
              "    <tr>\n",
              "      <th>4</th>\n",
              "      <td>monroe township</td>\n",
              "      <td>4000</td>\n",
              "      <td>725000</td>\n",
              "    </tr>\n",
              "    <tr>\n",
              "      <th>5</th>\n",
              "      <td>west windsor</td>\n",
              "      <td>2600</td>\n",
              "      <td>585000</td>\n",
              "    </tr>\n",
              "    <tr>\n",
              "      <th>6</th>\n",
              "      <td>west windsor</td>\n",
              "      <td>2800</td>\n",
              "      <td>615000</td>\n",
              "    </tr>\n",
              "    <tr>\n",
              "      <th>7</th>\n",
              "      <td>west windsor</td>\n",
              "      <td>3300</td>\n",
              "      <td>650000</td>\n",
              "    </tr>\n",
              "    <tr>\n",
              "      <th>8</th>\n",
              "      <td>west windsor</td>\n",
              "      <td>3600</td>\n",
              "      <td>710000</td>\n",
              "    </tr>\n",
              "    <tr>\n",
              "      <th>9</th>\n",
              "      <td>robinsville</td>\n",
              "      <td>2600</td>\n",
              "      <td>575000</td>\n",
              "    </tr>\n",
              "    <tr>\n",
              "      <th>10</th>\n",
              "      <td>robinsville</td>\n",
              "      <td>2900</td>\n",
              "      <td>600000</td>\n",
              "    </tr>\n",
              "    <tr>\n",
              "      <th>11</th>\n",
              "      <td>robinsville</td>\n",
              "      <td>3100</td>\n",
              "      <td>620000</td>\n",
              "    </tr>\n",
              "    <tr>\n",
              "      <th>12</th>\n",
              "      <td>robinsville</td>\n",
              "      <td>3600</td>\n",
              "      <td>695000</td>\n",
              "    </tr>\n",
              "  </tbody>\n",
              "</table>\n",
              "</div>"
            ],
            "text/plain": [
              "               town  area   price\n",
              "0   monroe township  2600  550000\n",
              "1   monroe township  3000  565000\n",
              "2   monroe township  3200  610000\n",
              "3   monroe township  3600  680000\n",
              "4   monroe township  4000  725000\n",
              "5      west windsor  2600  585000\n",
              "6      west windsor  2800  615000\n",
              "7      west windsor  3300  650000\n",
              "8      west windsor  3600  710000\n",
              "9       robinsville  2600  575000\n",
              "10      robinsville  2900  600000\n",
              "11      robinsville  3100  620000\n",
              "12      robinsville  3600  695000"
            ]
          },
          "metadata": {
            "tags": []
          },
          "execution_count": 6
        }
      ]
    },
    {
      "cell_type": "code",
      "metadata": {
        "id": "8Les4BxCqwzO",
        "colab_type": "code",
        "colab": {
          "base_uri": "https://localhost:8080/",
          "height": 438
        },
        "outputId": "44d66a7e-3ab8-4b34-d495-260b211ac83c"
      },
      "source": [
        "price_data.town = le.fit_transform(data.town)\n",
        "price_data"
      ],
      "execution_count": 7,
      "outputs": [
        {
          "output_type": "execute_result",
          "data": {
            "text/html": [
              "<div>\n",
              "<style scoped>\n",
              "    .dataframe tbody tr th:only-of-type {\n",
              "        vertical-align: middle;\n",
              "    }\n",
              "\n",
              "    .dataframe tbody tr th {\n",
              "        vertical-align: top;\n",
              "    }\n",
              "\n",
              "    .dataframe thead th {\n",
              "        text-align: right;\n",
              "    }\n",
              "</style>\n",
              "<table border=\"1\" class=\"dataframe\">\n",
              "  <thead>\n",
              "    <tr style=\"text-align: right;\">\n",
              "      <th></th>\n",
              "      <th>town</th>\n",
              "      <th>area</th>\n",
              "      <th>price</th>\n",
              "    </tr>\n",
              "  </thead>\n",
              "  <tbody>\n",
              "    <tr>\n",
              "      <th>0</th>\n",
              "      <td>0</td>\n",
              "      <td>2600</td>\n",
              "      <td>550000</td>\n",
              "    </tr>\n",
              "    <tr>\n",
              "      <th>1</th>\n",
              "      <td>0</td>\n",
              "      <td>3000</td>\n",
              "      <td>565000</td>\n",
              "    </tr>\n",
              "    <tr>\n",
              "      <th>2</th>\n",
              "      <td>0</td>\n",
              "      <td>3200</td>\n",
              "      <td>610000</td>\n",
              "    </tr>\n",
              "    <tr>\n",
              "      <th>3</th>\n",
              "      <td>0</td>\n",
              "      <td>3600</td>\n",
              "      <td>680000</td>\n",
              "    </tr>\n",
              "    <tr>\n",
              "      <th>4</th>\n",
              "      <td>0</td>\n",
              "      <td>4000</td>\n",
              "      <td>725000</td>\n",
              "    </tr>\n",
              "    <tr>\n",
              "      <th>5</th>\n",
              "      <td>2</td>\n",
              "      <td>2600</td>\n",
              "      <td>585000</td>\n",
              "    </tr>\n",
              "    <tr>\n",
              "      <th>6</th>\n",
              "      <td>2</td>\n",
              "      <td>2800</td>\n",
              "      <td>615000</td>\n",
              "    </tr>\n",
              "    <tr>\n",
              "      <th>7</th>\n",
              "      <td>2</td>\n",
              "      <td>3300</td>\n",
              "      <td>650000</td>\n",
              "    </tr>\n",
              "    <tr>\n",
              "      <th>8</th>\n",
              "      <td>2</td>\n",
              "      <td>3600</td>\n",
              "      <td>710000</td>\n",
              "    </tr>\n",
              "    <tr>\n",
              "      <th>9</th>\n",
              "      <td>1</td>\n",
              "      <td>2600</td>\n",
              "      <td>575000</td>\n",
              "    </tr>\n",
              "    <tr>\n",
              "      <th>10</th>\n",
              "      <td>1</td>\n",
              "      <td>2900</td>\n",
              "      <td>600000</td>\n",
              "    </tr>\n",
              "    <tr>\n",
              "      <th>11</th>\n",
              "      <td>1</td>\n",
              "      <td>3100</td>\n",
              "      <td>620000</td>\n",
              "    </tr>\n",
              "    <tr>\n",
              "      <th>12</th>\n",
              "      <td>1</td>\n",
              "      <td>3600</td>\n",
              "      <td>695000</td>\n",
              "    </tr>\n",
              "  </tbody>\n",
              "</table>\n",
              "</div>"
            ],
            "text/plain": [
              "    town  area   price\n",
              "0      0  2600  550000\n",
              "1      0  3000  565000\n",
              "2      0  3200  610000\n",
              "3      0  3600  680000\n",
              "4      0  4000  725000\n",
              "5      2  2600  585000\n",
              "6      2  2800  615000\n",
              "7      2  3300  650000\n",
              "8      2  3600  710000\n",
              "9      1  2600  575000\n",
              "10     1  2900  600000\n",
              "11     1  3100  620000\n",
              "12     1  3600  695000"
            ]
          },
          "metadata": {
            "tags": []
          },
          "execution_count": 7
        }
      ]
    },
    {
      "cell_type": "markdown",
      "metadata": {
        "id": "D__pAE6nq-FF",
        "colab_type": "text"
      },
      "source": [
        "# **OneHotEncoder-->similar to pd.get_dummies**\n",
        "-->import the OneHotEncoder class<br/>\n",
        "-->create an object for the class<br/>\n",
        "-->ColumnTransformer-->Insider this columntransform,we will pass this OneHotEncoder<br/>\n",
        "-->it has two mandatory arguments -->transforms,remainder\n",
        "-->transforms arguments,it will accept a list of tuple values"
      ]
    },
    {
      "cell_type": "code",
      "metadata": {
        "id": "UXU7bXFaq4S1",
        "colab_type": "code",
        "colab": {}
      },
      "source": [
        "##importing Libraries\n",
        "from sklearn.preprocessing import OneHotEncoder\n",
        "from sklearn.compose import ColumnTransformer "
      ],
      "execution_count": 14,
      "outputs": []
    },
    {
      "cell_type": "code",
      "metadata": {
        "id": "0h-iDmZLsYZP",
        "colab_type": "code",
        "colab": {}
      },
      "source": [
        "#inside the columntransformer, we have to pass OneHotEncoder\n",
        "column_transformer = ColumnTransformer(transformers=[('encoder', OneHotEncoder(),[0])],remainder='passthrough')"
      ],
      "execution_count": 16,
      "outputs": []
    },
    {
      "cell_type": "code",
      "metadata": {
        "id": "a_WLMKVjvSlK",
        "colab_type": "code",
        "colab": {}
      },
      "source": [
        "### Syntax: objectname.fit_transform(data)"
      ],
      "execution_count": null,
      "outputs": []
    },
    {
      "cell_type": "code",
      "metadata": {
        "id": "MWb19dxIsu3L",
        "colab_type": "code",
        "colab": {
          "base_uri": "https://localhost:8080/",
          "height": 254
        },
        "outputId": "7cd10d16-325d-4bfb-bcf9-c9c7e150590c"
      },
      "source": [
        "data = column_transformer.fit_transform(data)\n",
        "data"
      ],
      "execution_count": 18,
      "outputs": [
        {
          "output_type": "execute_result",
          "data": {
            "text/plain": [
              "array([[1.00e+00, 0.00e+00, 0.00e+00, 2.60e+03, 5.50e+05],\n",
              "       [1.00e+00, 0.00e+00, 0.00e+00, 3.00e+03, 5.65e+05],\n",
              "       [1.00e+00, 0.00e+00, 0.00e+00, 3.20e+03, 6.10e+05],\n",
              "       [1.00e+00, 0.00e+00, 0.00e+00, 3.60e+03, 6.80e+05],\n",
              "       [1.00e+00, 0.00e+00, 0.00e+00, 4.00e+03, 7.25e+05],\n",
              "       [0.00e+00, 0.00e+00, 1.00e+00, 2.60e+03, 5.85e+05],\n",
              "       [0.00e+00, 0.00e+00, 1.00e+00, 2.80e+03, 6.15e+05],\n",
              "       [0.00e+00, 0.00e+00, 1.00e+00, 3.30e+03, 6.50e+05],\n",
              "       [0.00e+00, 0.00e+00, 1.00e+00, 3.60e+03, 7.10e+05],\n",
              "       [0.00e+00, 1.00e+00, 0.00e+00, 2.60e+03, 5.75e+05],\n",
              "       [0.00e+00, 1.00e+00, 0.00e+00, 2.90e+03, 6.00e+05],\n",
              "       [0.00e+00, 1.00e+00, 0.00e+00, 3.10e+03, 6.20e+05],\n",
              "       [0.00e+00, 1.00e+00, 0.00e+00, 3.60e+03, 6.95e+05]])"
            ]
          },
          "metadata": {
            "tags": []
          },
          "execution_count": 18
        }
      ]
    },
    {
      "cell_type": "code",
      "metadata": {
        "id": "gxRkmrK7uxD7",
        "colab_type": "code",
        "colab": {
          "base_uri": "https://localhost:8080/",
          "height": 438
        },
        "outputId": "3be3b19d-aa03-40c0-b471-ae358e5840e6"
      },
      "source": [
        "# Creating dataframe out of array\n",
        "X = pd.DataFrame(data)\n",
        "X"
      ],
      "execution_count": 19,
      "outputs": [
        {
          "output_type": "execute_result",
          "data": {
            "text/html": [
              "<div>\n",
              "<style scoped>\n",
              "    .dataframe tbody tr th:only-of-type {\n",
              "        vertical-align: middle;\n",
              "    }\n",
              "\n",
              "    .dataframe tbody tr th {\n",
              "        vertical-align: top;\n",
              "    }\n",
              "\n",
              "    .dataframe thead th {\n",
              "        text-align: right;\n",
              "    }\n",
              "</style>\n",
              "<table border=\"1\" class=\"dataframe\">\n",
              "  <thead>\n",
              "    <tr style=\"text-align: right;\">\n",
              "      <th></th>\n",
              "      <th>0</th>\n",
              "      <th>1</th>\n",
              "      <th>2</th>\n",
              "      <th>3</th>\n",
              "      <th>4</th>\n",
              "    </tr>\n",
              "  </thead>\n",
              "  <tbody>\n",
              "    <tr>\n",
              "      <th>0</th>\n",
              "      <td>1.0</td>\n",
              "      <td>0.0</td>\n",
              "      <td>0.0</td>\n",
              "      <td>2600.0</td>\n",
              "      <td>550000.0</td>\n",
              "    </tr>\n",
              "    <tr>\n",
              "      <th>1</th>\n",
              "      <td>1.0</td>\n",
              "      <td>0.0</td>\n",
              "      <td>0.0</td>\n",
              "      <td>3000.0</td>\n",
              "      <td>565000.0</td>\n",
              "    </tr>\n",
              "    <tr>\n",
              "      <th>2</th>\n",
              "      <td>1.0</td>\n",
              "      <td>0.0</td>\n",
              "      <td>0.0</td>\n",
              "      <td>3200.0</td>\n",
              "      <td>610000.0</td>\n",
              "    </tr>\n",
              "    <tr>\n",
              "      <th>3</th>\n",
              "      <td>1.0</td>\n",
              "      <td>0.0</td>\n",
              "      <td>0.0</td>\n",
              "      <td>3600.0</td>\n",
              "      <td>680000.0</td>\n",
              "    </tr>\n",
              "    <tr>\n",
              "      <th>4</th>\n",
              "      <td>1.0</td>\n",
              "      <td>0.0</td>\n",
              "      <td>0.0</td>\n",
              "      <td>4000.0</td>\n",
              "      <td>725000.0</td>\n",
              "    </tr>\n",
              "    <tr>\n",
              "      <th>5</th>\n",
              "      <td>0.0</td>\n",
              "      <td>0.0</td>\n",
              "      <td>1.0</td>\n",
              "      <td>2600.0</td>\n",
              "      <td>585000.0</td>\n",
              "    </tr>\n",
              "    <tr>\n",
              "      <th>6</th>\n",
              "      <td>0.0</td>\n",
              "      <td>0.0</td>\n",
              "      <td>1.0</td>\n",
              "      <td>2800.0</td>\n",
              "      <td>615000.0</td>\n",
              "    </tr>\n",
              "    <tr>\n",
              "      <th>7</th>\n",
              "      <td>0.0</td>\n",
              "      <td>0.0</td>\n",
              "      <td>1.0</td>\n",
              "      <td>3300.0</td>\n",
              "      <td>650000.0</td>\n",
              "    </tr>\n",
              "    <tr>\n",
              "      <th>8</th>\n",
              "      <td>0.0</td>\n",
              "      <td>0.0</td>\n",
              "      <td>1.0</td>\n",
              "      <td>3600.0</td>\n",
              "      <td>710000.0</td>\n",
              "    </tr>\n",
              "    <tr>\n",
              "      <th>9</th>\n",
              "      <td>0.0</td>\n",
              "      <td>1.0</td>\n",
              "      <td>0.0</td>\n",
              "      <td>2600.0</td>\n",
              "      <td>575000.0</td>\n",
              "    </tr>\n",
              "    <tr>\n",
              "      <th>10</th>\n",
              "      <td>0.0</td>\n",
              "      <td>1.0</td>\n",
              "      <td>0.0</td>\n",
              "      <td>2900.0</td>\n",
              "      <td>600000.0</td>\n",
              "    </tr>\n",
              "    <tr>\n",
              "      <th>11</th>\n",
              "      <td>0.0</td>\n",
              "      <td>1.0</td>\n",
              "      <td>0.0</td>\n",
              "      <td>3100.0</td>\n",
              "      <td>620000.0</td>\n",
              "    </tr>\n",
              "    <tr>\n",
              "      <th>12</th>\n",
              "      <td>0.0</td>\n",
              "      <td>1.0</td>\n",
              "      <td>0.0</td>\n",
              "      <td>3600.0</td>\n",
              "      <td>695000.0</td>\n",
              "    </tr>\n",
              "  </tbody>\n",
              "</table>\n",
              "</div>"
            ],
            "text/plain": [
              "      0    1    2       3         4\n",
              "0   1.0  0.0  0.0  2600.0  550000.0\n",
              "1   1.0  0.0  0.0  3000.0  565000.0\n",
              "2   1.0  0.0  0.0  3200.0  610000.0\n",
              "3   1.0  0.0  0.0  3600.0  680000.0\n",
              "4   1.0  0.0  0.0  4000.0  725000.0\n",
              "5   0.0  0.0  1.0  2600.0  585000.0\n",
              "6   0.0  0.0  1.0  2800.0  615000.0\n",
              "7   0.0  0.0  1.0  3300.0  650000.0\n",
              "8   0.0  0.0  1.0  3600.0  710000.0\n",
              "9   0.0  1.0  0.0  2600.0  575000.0\n",
              "10  0.0  1.0  0.0  2900.0  600000.0\n",
              "11  0.0  1.0  0.0  3100.0  620000.0\n",
              "12  0.0  1.0  0.0  3600.0  695000.0"
            ]
          },
          "metadata": {
            "tags": []
          },
          "execution_count": 19
        }
      ]
    },
    {
      "cell_type": "code",
      "metadata": {
        "id": "ZmYwNkLwvBlG",
        "colab_type": "code",
        "colab": {}
      },
      "source": [
        "#importing the classes\n",
        "## Creating the objects\n",
        "## To apply the object to the dataframe(columns),we are using fit_transform-->with help of fit_transform(data)\n",
        "## We are encoding the categorical variables\n",
        "## LabelEncoder is used only when we have to classes"
      ],
      "execution_count": null,
      "outputs": []
    },
    {
      "cell_type": "markdown",
      "metadata": {
        "id": "89qXejrrxThf",
        "colab_type": "text"
      },
      "source": [
        "# **Splitting the dataset**"
      ]
    },
    {
      "cell_type": "code",
      "metadata": {
        "id": "x5BtYsYCxQrV",
        "colab_type": "code",
        "colab": {}
      },
      "source": [
        "-->how well the model is working\n",
        "-->seperate the input and output\n",
        "-->input and output seperately to the model"
      ],
      "execution_count": null,
      "outputs": []
    },
    {
      "cell_type": "code",
      "metadata": {
        "id": "FgsFRBCR2R30",
        "colab_type": "code",
        "colab": {}
      },
      "source": [
        "price = pd.read_csv(\"https://raw.githubusercontent.com/Mounika-kajjam/Datasets/master/homeprices.csv\")"
      ],
      "execution_count": 21,
      "outputs": []
    },
    {
      "cell_type": "code",
      "metadata": {
        "id": "2tk7Ue_T1IDZ",
        "colab_type": "code",
        "colab": {
          "base_uri": "https://localhost:8080/",
          "height": 438
        },
        "outputId": "f8940d9a-75f6-41e9-f854-f91041c1af19"
      },
      "source": [
        "# town and area -->input columns\n",
        "X = price.iloc[:, 0:2] #preparing the input variables/columns\n",
        "X"
      ],
      "execution_count": 23,
      "outputs": [
        {
          "output_type": "execute_result",
          "data": {
            "text/html": [
              "<div>\n",
              "<style scoped>\n",
              "    .dataframe tbody tr th:only-of-type {\n",
              "        vertical-align: middle;\n",
              "    }\n",
              "\n",
              "    .dataframe tbody tr th {\n",
              "        vertical-align: top;\n",
              "    }\n",
              "\n",
              "    .dataframe thead th {\n",
              "        text-align: right;\n",
              "    }\n",
              "</style>\n",
              "<table border=\"1\" class=\"dataframe\">\n",
              "  <thead>\n",
              "    <tr style=\"text-align: right;\">\n",
              "      <th></th>\n",
              "      <th>town</th>\n",
              "      <th>area</th>\n",
              "    </tr>\n",
              "  </thead>\n",
              "  <tbody>\n",
              "    <tr>\n",
              "      <th>0</th>\n",
              "      <td>monroe township</td>\n",
              "      <td>2600</td>\n",
              "    </tr>\n",
              "    <tr>\n",
              "      <th>1</th>\n",
              "      <td>monroe township</td>\n",
              "      <td>3000</td>\n",
              "    </tr>\n",
              "    <tr>\n",
              "      <th>2</th>\n",
              "      <td>monroe township</td>\n",
              "      <td>3200</td>\n",
              "    </tr>\n",
              "    <tr>\n",
              "      <th>3</th>\n",
              "      <td>monroe township</td>\n",
              "      <td>3600</td>\n",
              "    </tr>\n",
              "    <tr>\n",
              "      <th>4</th>\n",
              "      <td>monroe township</td>\n",
              "      <td>4000</td>\n",
              "    </tr>\n",
              "    <tr>\n",
              "      <th>5</th>\n",
              "      <td>west windsor</td>\n",
              "      <td>2600</td>\n",
              "    </tr>\n",
              "    <tr>\n",
              "      <th>6</th>\n",
              "      <td>west windsor</td>\n",
              "      <td>2800</td>\n",
              "    </tr>\n",
              "    <tr>\n",
              "      <th>7</th>\n",
              "      <td>west windsor</td>\n",
              "      <td>3300</td>\n",
              "    </tr>\n",
              "    <tr>\n",
              "      <th>8</th>\n",
              "      <td>west windsor</td>\n",
              "      <td>3600</td>\n",
              "    </tr>\n",
              "    <tr>\n",
              "      <th>9</th>\n",
              "      <td>robinsville</td>\n",
              "      <td>2600</td>\n",
              "    </tr>\n",
              "    <tr>\n",
              "      <th>10</th>\n",
              "      <td>robinsville</td>\n",
              "      <td>2900</td>\n",
              "    </tr>\n",
              "    <tr>\n",
              "      <th>11</th>\n",
              "      <td>robinsville</td>\n",
              "      <td>3100</td>\n",
              "    </tr>\n",
              "    <tr>\n",
              "      <th>12</th>\n",
              "      <td>robinsville</td>\n",
              "      <td>3600</td>\n",
              "    </tr>\n",
              "  </tbody>\n",
              "</table>\n",
              "</div>"
            ],
            "text/plain": [
              "               town  area\n",
              "0   monroe township  2600\n",
              "1   monroe township  3000\n",
              "2   monroe township  3200\n",
              "3   monroe township  3600\n",
              "4   monroe township  4000\n",
              "5      west windsor  2600\n",
              "6      west windsor  2800\n",
              "7      west windsor  3300\n",
              "8      west windsor  3600\n",
              "9       robinsville  2600\n",
              "10      robinsville  2900\n",
              "11      robinsville  3100\n",
              "12      robinsville  3600"
            ]
          },
          "metadata": {
            "tags": []
          },
          "execution_count": 23
        }
      ]
    },
    {
      "cell_type": "code",
      "metadata": {
        "id": "w51yJzLN2aXy",
        "colab_type": "code",
        "colab": {
          "base_uri": "https://localhost:8080/",
          "height": 272
        },
        "outputId": "5258fab4-4f8a-4993-d9f5-50140415a9cb"
      },
      "source": [
        "#preparing the output variables\n",
        "y = price.price\n",
        "y"
      ],
      "execution_count": 24,
      "outputs": [
        {
          "output_type": "execute_result",
          "data": {
            "text/plain": [
              "0     550000\n",
              "1     565000\n",
              "2     610000\n",
              "3     680000\n",
              "4     725000\n",
              "5     585000\n",
              "6     615000\n",
              "7     650000\n",
              "8     710000\n",
              "9     575000\n",
              "10    600000\n",
              "11    620000\n",
              "12    695000\n",
              "Name: price, dtype: int64"
            ]
          },
          "metadata": {
            "tags": []
          },
          "execution_count": 24
        }
      ]
    },
    {
      "cell_type": "code",
      "metadata": {
        "id": "p8QgQ3v22rEk",
        "colab_type": "code",
        "colab": {}
      },
      "source": [
        "seperate the input into training and testing\n",
        "seperate the output into training and testing"
      ],
      "execution_count": null,
      "outputs": []
    },
    {
      "cell_type": "code",
      "metadata": {
        "id": "EofboxSD4U3R",
        "colab_type": "code",
        "colab": {}
      },
      "source": [
        "# 20% of the data to the testing data \n",
        "from sklearn.model_selection import train_test_split\n",
        "X_train, X_test , y_train ,y_test = train_test_split(X, y, test_size=0.2)"
      ],
      "execution_count": 25,
      "outputs": []
    },
    {
      "cell_type": "code",
      "metadata": {
        "id": "-SXb24lf5RcJ",
        "colab_type": "code",
        "colab": {
          "base_uri": "https://localhost:8080/",
          "height": 90
        },
        "outputId": "923e9c7d-30ef-4487-bf85-686804cba2ea"
      },
      "source": [
        "print(X_train.shape) #Input train -->Output train\n",
        "print(X_test.shape)  #Input train -->Output test\n",
        "print(y_train.shape) #Output train\n",
        "print(y_test.shape)  #Output test"
      ],
      "execution_count": 26,
      "outputs": [
        {
          "output_type": "stream",
          "text": [
            "(10, 2)\n",
            "(3, 2)\n",
            "(10,)\n",
            "(3,)\n"
          ],
          "name": "stdout"
        }
      ]
    },
    {
      "cell_type": "code",
      "metadata": {
        "id": "9mUica2q7cpe",
        "colab_type": "code",
        "colab": {
          "base_uri": "https://localhost:8080/",
          "height": 348
        },
        "outputId": "1082d9e0-c764-496d-ccab-31c50d4c96aa"
      },
      "source": [
        "X_train"
      ],
      "execution_count": 27,
      "outputs": [
        {
          "output_type": "execute_result",
          "data": {
            "text/html": [
              "<div>\n",
              "<style scoped>\n",
              "    .dataframe tbody tr th:only-of-type {\n",
              "        vertical-align: middle;\n",
              "    }\n",
              "\n",
              "    .dataframe tbody tr th {\n",
              "        vertical-align: top;\n",
              "    }\n",
              "\n",
              "    .dataframe thead th {\n",
              "        text-align: right;\n",
              "    }\n",
              "</style>\n",
              "<table border=\"1\" class=\"dataframe\">\n",
              "  <thead>\n",
              "    <tr style=\"text-align: right;\">\n",
              "      <th></th>\n",
              "      <th>town</th>\n",
              "      <th>area</th>\n",
              "    </tr>\n",
              "  </thead>\n",
              "  <tbody>\n",
              "    <tr>\n",
              "      <th>5</th>\n",
              "      <td>west windsor</td>\n",
              "      <td>2600</td>\n",
              "    </tr>\n",
              "    <tr>\n",
              "      <th>6</th>\n",
              "      <td>west windsor</td>\n",
              "      <td>2800</td>\n",
              "    </tr>\n",
              "    <tr>\n",
              "      <th>8</th>\n",
              "      <td>west windsor</td>\n",
              "      <td>3600</td>\n",
              "    </tr>\n",
              "    <tr>\n",
              "      <th>2</th>\n",
              "      <td>monroe township</td>\n",
              "      <td>3200</td>\n",
              "    </tr>\n",
              "    <tr>\n",
              "      <th>10</th>\n",
              "      <td>robinsville</td>\n",
              "      <td>2900</td>\n",
              "    </tr>\n",
              "    <tr>\n",
              "      <th>9</th>\n",
              "      <td>robinsville</td>\n",
              "      <td>2600</td>\n",
              "    </tr>\n",
              "    <tr>\n",
              "      <th>0</th>\n",
              "      <td>monroe township</td>\n",
              "      <td>2600</td>\n",
              "    </tr>\n",
              "    <tr>\n",
              "      <th>1</th>\n",
              "      <td>monroe township</td>\n",
              "      <td>3000</td>\n",
              "    </tr>\n",
              "    <tr>\n",
              "      <th>11</th>\n",
              "      <td>robinsville</td>\n",
              "      <td>3100</td>\n",
              "    </tr>\n",
              "    <tr>\n",
              "      <th>7</th>\n",
              "      <td>west windsor</td>\n",
              "      <td>3300</td>\n",
              "    </tr>\n",
              "  </tbody>\n",
              "</table>\n",
              "</div>"
            ],
            "text/plain": [
              "               town  area\n",
              "5      west windsor  2600\n",
              "6      west windsor  2800\n",
              "8      west windsor  3600\n",
              "2   monroe township  3200\n",
              "10      robinsville  2900\n",
              "9       robinsville  2600\n",
              "0   monroe township  2600\n",
              "1   monroe township  3000\n",
              "11      robinsville  3100\n",
              "7      west windsor  3300"
            ]
          },
          "metadata": {
            "tags": []
          },
          "execution_count": 27
        }
      ]
    },
    {
      "cell_type": "markdown",
      "metadata": {
        "id": "T22R_iZr7Rty",
        "colab_type": "text"
      },
      "source": [
        "## **Feauture Scaling:(Not mandatory for all the algorithms)**"
      ]
    },
    {
      "cell_type": "code",
      "metadata": {
        "id": "cLqK0brg5jy6",
        "colab_type": "code",
        "colab": {
          "base_uri": "https://localhost:8080/",
          "height": 228
        },
        "outputId": "16e28370-23e5-4a95-bfc9-0c4f0a06d6bd"
      },
      "source": [
        "sample = pd.DataFrame({'W.E': [2,4,5,6,7,8],'Age': [28,25,32,45,33,32],'Salary': [300000, 400000, 500000, 600000, 700000, 800000],'Distance': [10, 12, 23, 32, 15, 17],'Expected Salary':[400000, 500000, 600000, 700000, 800000, 900000]})\n",
        "sample"
      ],
      "execution_count": 30,
      "outputs": [
        {
          "output_type": "execute_result",
          "data": {
            "text/html": [
              "<div>\n",
              "<style scoped>\n",
              "    .dataframe tbody tr th:only-of-type {\n",
              "        vertical-align: middle;\n",
              "    }\n",
              "\n",
              "    .dataframe tbody tr th {\n",
              "        vertical-align: top;\n",
              "    }\n",
              "\n",
              "    .dataframe thead th {\n",
              "        text-align: right;\n",
              "    }\n",
              "</style>\n",
              "<table border=\"1\" class=\"dataframe\">\n",
              "  <thead>\n",
              "    <tr style=\"text-align: right;\">\n",
              "      <th></th>\n",
              "      <th>W.E</th>\n",
              "      <th>Age</th>\n",
              "      <th>Salary</th>\n",
              "      <th>Distance</th>\n",
              "      <th>Expected Salary</th>\n",
              "    </tr>\n",
              "  </thead>\n",
              "  <tbody>\n",
              "    <tr>\n",
              "      <th>0</th>\n",
              "      <td>2</td>\n",
              "      <td>28</td>\n",
              "      <td>300000</td>\n",
              "      <td>10</td>\n",
              "      <td>400000</td>\n",
              "    </tr>\n",
              "    <tr>\n",
              "      <th>1</th>\n",
              "      <td>4</td>\n",
              "      <td>25</td>\n",
              "      <td>400000</td>\n",
              "      <td>12</td>\n",
              "      <td>500000</td>\n",
              "    </tr>\n",
              "    <tr>\n",
              "      <th>2</th>\n",
              "      <td>5</td>\n",
              "      <td>32</td>\n",
              "      <td>500000</td>\n",
              "      <td>23</td>\n",
              "      <td>600000</td>\n",
              "    </tr>\n",
              "    <tr>\n",
              "      <th>3</th>\n",
              "      <td>6</td>\n",
              "      <td>45</td>\n",
              "      <td>600000</td>\n",
              "      <td>32</td>\n",
              "      <td>700000</td>\n",
              "    </tr>\n",
              "    <tr>\n",
              "      <th>4</th>\n",
              "      <td>7</td>\n",
              "      <td>33</td>\n",
              "      <td>700000</td>\n",
              "      <td>15</td>\n",
              "      <td>800000</td>\n",
              "    </tr>\n",
              "    <tr>\n",
              "      <th>5</th>\n",
              "      <td>8</td>\n",
              "      <td>32</td>\n",
              "      <td>800000</td>\n",
              "      <td>17</td>\n",
              "      <td>900000</td>\n",
              "    </tr>\n",
              "  </tbody>\n",
              "</table>\n",
              "</div>"
            ],
            "text/plain": [
              "   W.E  Age  Salary  Distance  Expected Salary\n",
              "0    2   28  300000        10           400000\n",
              "1    4   25  400000        12           500000\n",
              "2    5   32  500000        23           600000\n",
              "3    6   45  600000        32           700000\n",
              "4    7   33  700000        15           800000\n",
              "5    8   32  800000        17           900000"
            ]
          },
          "metadata": {
            "tags": []
          },
          "execution_count": 30
        }
      ]
    },
    {
      "cell_type": "markdown",
      "metadata": {
        "id": "esFCpnB2_BYr",
        "colab_type": "text"
      },
      "source": [
        "-->Most of the machine learning algorithms,we use distance based formulas"
      ]
    },
    {
      "cell_type": "markdown",
      "metadata": {
        "id": "pz0XWhgu_Udi",
        "colab_type": "text"
      },
      "source": [
        "-->Salary column is hugely dominating the other columns in terms of magnitude<br/>\n",
        "-->Also,all the columns in our dataset,belong to different units, Exp-->Years,salary-->currency<br/>\n",
        "-->Units and Scale(magnitude)<br/>\n",
        "-->Feature Scaling-->when applied,this units and scaling will be removed<br/>\n",
        "-->to make the data unitless and scaleless,we have to apply feature scaling  "
      ]
    },
    {
      "cell_type": "code",
      "metadata": {
        "id": "aNtz54Et-7oy",
        "colab_type": "code",
        "colab": {
          "base_uri": "https://localhost:8080/",
          "height": 126
        },
        "outputId": "cbdf37f9-e452-4afd-9423-cefe8f0a7a36"
      },
      "source": [
        "from sklearn.preprocessing import scale\n",
        "scaled_data = scale(sample)\n",
        "scaled_data"
      ],
      "execution_count": 35,
      "outputs": [
        {
          "output_type": "execute_result",
          "data": {
            "text/plain": [
              "array([[-1.69030851, -0.72134777, -1.46385011, -1.09980534, -1.46385011],\n",
              "       [-0.6761234 , -1.20224629, -0.87831007, -0.83046526, -0.87831007],\n",
              "       [-0.16903085, -0.08014975, -0.29277002,  0.6509052 , -0.29277002],\n",
              "       [ 0.3380617 ,  2.00374382,  0.29277002,  1.86293558,  0.29277002],\n",
              "       [ 0.84515425,  0.08014975,  0.87831007, -0.42645513,  0.87831007],\n",
              "       [ 1.35224681, -0.08014975,  1.46385011, -0.15711505,  1.46385011]])"
            ]
          },
          "metadata": {
            "tags": []
          },
          "execution_count": 35
        }
      ]
    },
    {
      "cell_type": "code",
      "metadata": {
        "id": "sh_8bRktAoZV",
        "colab_type": "code",
        "colab": {
          "base_uri": "https://localhost:8080/",
          "height": 228
        },
        "outputId": "0b169263-b3c3-4236-8fcf-db141fedefa1"
      },
      "source": [
        "scaled_data = pd.DataFrame(scaled_data)\n",
        "scaled_data"
      ],
      "execution_count": 36,
      "outputs": [
        {
          "output_type": "execute_result",
          "data": {
            "text/html": [
              "<div>\n",
              "<style scoped>\n",
              "    .dataframe tbody tr th:only-of-type {\n",
              "        vertical-align: middle;\n",
              "    }\n",
              "\n",
              "    .dataframe tbody tr th {\n",
              "        vertical-align: top;\n",
              "    }\n",
              "\n",
              "    .dataframe thead th {\n",
              "        text-align: right;\n",
              "    }\n",
              "</style>\n",
              "<table border=\"1\" class=\"dataframe\">\n",
              "  <thead>\n",
              "    <tr style=\"text-align: right;\">\n",
              "      <th></th>\n",
              "      <th>0</th>\n",
              "      <th>1</th>\n",
              "      <th>2</th>\n",
              "      <th>3</th>\n",
              "      <th>4</th>\n",
              "    </tr>\n",
              "  </thead>\n",
              "  <tbody>\n",
              "    <tr>\n",
              "      <th>0</th>\n",
              "      <td>-1.690309</td>\n",
              "      <td>-0.721348</td>\n",
              "      <td>-1.46385</td>\n",
              "      <td>-1.099805</td>\n",
              "      <td>-1.46385</td>\n",
              "    </tr>\n",
              "    <tr>\n",
              "      <th>1</th>\n",
              "      <td>-0.676123</td>\n",
              "      <td>-1.202246</td>\n",
              "      <td>-0.87831</td>\n",
              "      <td>-0.830465</td>\n",
              "      <td>-0.87831</td>\n",
              "    </tr>\n",
              "    <tr>\n",
              "      <th>2</th>\n",
              "      <td>-0.169031</td>\n",
              "      <td>-0.080150</td>\n",
              "      <td>-0.29277</td>\n",
              "      <td>0.650905</td>\n",
              "      <td>-0.29277</td>\n",
              "    </tr>\n",
              "    <tr>\n",
              "      <th>3</th>\n",
              "      <td>0.338062</td>\n",
              "      <td>2.003744</td>\n",
              "      <td>0.29277</td>\n",
              "      <td>1.862936</td>\n",
              "      <td>0.29277</td>\n",
              "    </tr>\n",
              "    <tr>\n",
              "      <th>4</th>\n",
              "      <td>0.845154</td>\n",
              "      <td>0.080150</td>\n",
              "      <td>0.87831</td>\n",
              "      <td>-0.426455</td>\n",
              "      <td>0.87831</td>\n",
              "    </tr>\n",
              "    <tr>\n",
              "      <th>5</th>\n",
              "      <td>1.352247</td>\n",
              "      <td>-0.080150</td>\n",
              "      <td>1.46385</td>\n",
              "      <td>-0.157115</td>\n",
              "      <td>1.46385</td>\n",
              "    </tr>\n",
              "  </tbody>\n",
              "</table>\n",
              "</div>"
            ],
            "text/plain": [
              "          0         1        2         3        4\n",
              "0 -1.690309 -0.721348 -1.46385 -1.099805 -1.46385\n",
              "1 -0.676123 -1.202246 -0.87831 -0.830465 -0.87831\n",
              "2 -0.169031 -0.080150 -0.29277  0.650905 -0.29277\n",
              "3  0.338062  2.003744  0.29277  1.862936  0.29277\n",
              "4  0.845154  0.080150  0.87831 -0.426455  0.87831\n",
              "5  1.352247 -0.080150  1.46385 -0.157115  1.46385"
            ]
          },
          "metadata": {
            "tags": []
          },
          "execution_count": 36
        }
      ]
    },
    {
      "cell_type": "code",
      "metadata": {
        "id": "JkoSmOkGBGer",
        "colab_type": "code",
        "colab": {
          "base_uri": "https://localhost:8080/",
          "height": 126
        },
        "outputId": "1a091dd5-8019-41ce-df9a-567451f9dadb"
      },
      "source": [
        "## using standardscaler\n",
        "from sklearn.preprocessing import StandardScaler\n",
        "sc = StandardScaler() # creating an object\n",
        "sample = sc.fit_transform(sample)\n",
        "sample"
      ],
      "execution_count": 38,
      "outputs": [
        {
          "output_type": "execute_result",
          "data": {
            "text/plain": [
              "array([[-1.69030851, -0.72134777, -1.46385011, -1.09980534, -1.46385011],\n",
              "       [-0.6761234 , -1.20224629, -0.87831007, -0.83046526, -0.87831007],\n",
              "       [-0.16903085, -0.08014975, -0.29277002,  0.6509052 , -0.29277002],\n",
              "       [ 0.3380617 ,  2.00374382,  0.29277002,  1.86293558,  0.29277002],\n",
              "       [ 0.84515425,  0.08014975,  0.87831007, -0.42645513,  0.87831007],\n",
              "       [ 1.35224681, -0.08014975,  1.46385011, -0.15711505,  1.46385011]])"
            ]
          },
          "metadata": {
            "tags": []
          },
          "execution_count": 38
        }
      ]
    },
    {
      "cell_type": "code",
      "metadata": {
        "id": "zTw03M5YE_1t",
        "colab_type": "code",
        "colab": {
          "base_uri": "https://localhost:8080/",
          "height": 228
        },
        "outputId": "07566eeb-cc1c-4793-d25b-144ac9477360"
      },
      "source": [
        "sample = pd.DataFrame(sample)\n",
        "sample"
      ],
      "execution_count": 39,
      "outputs": [
        {
          "output_type": "execute_result",
          "data": {
            "text/html": [
              "<div>\n",
              "<style scoped>\n",
              "    .dataframe tbody tr th:only-of-type {\n",
              "        vertical-align: middle;\n",
              "    }\n",
              "\n",
              "    .dataframe tbody tr th {\n",
              "        vertical-align: top;\n",
              "    }\n",
              "\n",
              "    .dataframe thead th {\n",
              "        text-align: right;\n",
              "    }\n",
              "</style>\n",
              "<table border=\"1\" class=\"dataframe\">\n",
              "  <thead>\n",
              "    <tr style=\"text-align: right;\">\n",
              "      <th></th>\n",
              "      <th>0</th>\n",
              "      <th>1</th>\n",
              "      <th>2</th>\n",
              "      <th>3</th>\n",
              "      <th>4</th>\n",
              "    </tr>\n",
              "  </thead>\n",
              "  <tbody>\n",
              "    <tr>\n",
              "      <th>0</th>\n",
              "      <td>-1.690309</td>\n",
              "      <td>-0.721348</td>\n",
              "      <td>-1.46385</td>\n",
              "      <td>-1.099805</td>\n",
              "      <td>-1.46385</td>\n",
              "    </tr>\n",
              "    <tr>\n",
              "      <th>1</th>\n",
              "      <td>-0.676123</td>\n",
              "      <td>-1.202246</td>\n",
              "      <td>-0.87831</td>\n",
              "      <td>-0.830465</td>\n",
              "      <td>-0.87831</td>\n",
              "    </tr>\n",
              "    <tr>\n",
              "      <th>2</th>\n",
              "      <td>-0.169031</td>\n",
              "      <td>-0.080150</td>\n",
              "      <td>-0.29277</td>\n",
              "      <td>0.650905</td>\n",
              "      <td>-0.29277</td>\n",
              "    </tr>\n",
              "    <tr>\n",
              "      <th>3</th>\n",
              "      <td>0.338062</td>\n",
              "      <td>2.003744</td>\n",
              "      <td>0.29277</td>\n",
              "      <td>1.862936</td>\n",
              "      <td>0.29277</td>\n",
              "    </tr>\n",
              "    <tr>\n",
              "      <th>4</th>\n",
              "      <td>0.845154</td>\n",
              "      <td>0.080150</td>\n",
              "      <td>0.87831</td>\n",
              "      <td>-0.426455</td>\n",
              "      <td>0.87831</td>\n",
              "    </tr>\n",
              "    <tr>\n",
              "      <th>5</th>\n",
              "      <td>1.352247</td>\n",
              "      <td>-0.080150</td>\n",
              "      <td>1.46385</td>\n",
              "      <td>-0.157115</td>\n",
              "      <td>1.46385</td>\n",
              "    </tr>\n",
              "  </tbody>\n",
              "</table>\n",
              "</div>"
            ],
            "text/plain": [
              "          0         1        2         3        4\n",
              "0 -1.690309 -0.721348 -1.46385 -1.099805 -1.46385\n",
              "1 -0.676123 -1.202246 -0.87831 -0.830465 -0.87831\n",
              "2 -0.169031 -0.080150 -0.29277  0.650905 -0.29277\n",
              "3  0.338062  2.003744  0.29277  1.862936  0.29277\n",
              "4  0.845154  0.080150  0.87831 -0.426455  0.87831\n",
              "5  1.352247 -0.080150  1.46385 -0.157115  1.46385"
            ]
          },
          "metadata": {
            "tags": []
          },
          "execution_count": 39
        }
      ]
    },
    {
      "cell_type": "code",
      "metadata": {
        "id": "A7g8IuUrGbbX",
        "colab_type": "code",
        "colab": {
          "base_uri": "https://localhost:8080/",
          "height": 228
        },
        "outputId": "beb73c4a-8c65-4f55-ad4d-6b6ae3ceede8"
      },
      "source": [
        "standard_data=sample.copy()\n",
        "standard_data"
      ],
      "execution_count": 40,
      "outputs": [
        {
          "output_type": "execute_result",
          "data": {
            "text/html": [
              "<div>\n",
              "<style scoped>\n",
              "    .dataframe tbody tr th:only-of-type {\n",
              "        vertical-align: middle;\n",
              "    }\n",
              "\n",
              "    .dataframe tbody tr th {\n",
              "        vertical-align: top;\n",
              "    }\n",
              "\n",
              "    .dataframe thead th {\n",
              "        text-align: right;\n",
              "    }\n",
              "</style>\n",
              "<table border=\"1\" class=\"dataframe\">\n",
              "  <thead>\n",
              "    <tr style=\"text-align: right;\">\n",
              "      <th></th>\n",
              "      <th>0</th>\n",
              "      <th>1</th>\n",
              "      <th>2</th>\n",
              "      <th>3</th>\n",
              "      <th>4</th>\n",
              "    </tr>\n",
              "  </thead>\n",
              "  <tbody>\n",
              "    <tr>\n",
              "      <th>0</th>\n",
              "      <td>-1.690309</td>\n",
              "      <td>-0.721348</td>\n",
              "      <td>-1.46385</td>\n",
              "      <td>-1.099805</td>\n",
              "      <td>-1.46385</td>\n",
              "    </tr>\n",
              "    <tr>\n",
              "      <th>1</th>\n",
              "      <td>-0.676123</td>\n",
              "      <td>-1.202246</td>\n",
              "      <td>-0.87831</td>\n",
              "      <td>-0.830465</td>\n",
              "      <td>-0.87831</td>\n",
              "    </tr>\n",
              "    <tr>\n",
              "      <th>2</th>\n",
              "      <td>-0.169031</td>\n",
              "      <td>-0.080150</td>\n",
              "      <td>-0.29277</td>\n",
              "      <td>0.650905</td>\n",
              "      <td>-0.29277</td>\n",
              "    </tr>\n",
              "    <tr>\n",
              "      <th>3</th>\n",
              "      <td>0.338062</td>\n",
              "      <td>2.003744</td>\n",
              "      <td>0.29277</td>\n",
              "      <td>1.862936</td>\n",
              "      <td>0.29277</td>\n",
              "    </tr>\n",
              "    <tr>\n",
              "      <th>4</th>\n",
              "      <td>0.845154</td>\n",
              "      <td>0.080150</td>\n",
              "      <td>0.87831</td>\n",
              "      <td>-0.426455</td>\n",
              "      <td>0.87831</td>\n",
              "    </tr>\n",
              "    <tr>\n",
              "      <th>5</th>\n",
              "      <td>1.352247</td>\n",
              "      <td>-0.080150</td>\n",
              "      <td>1.46385</td>\n",
              "      <td>-0.157115</td>\n",
              "      <td>1.46385</td>\n",
              "    </tr>\n",
              "  </tbody>\n",
              "</table>\n",
              "</div>"
            ],
            "text/plain": [
              "          0         1        2         3        4\n",
              "0 -1.690309 -0.721348 -1.46385 -1.099805 -1.46385\n",
              "1 -0.676123 -1.202246 -0.87831 -0.830465 -0.87831\n",
              "2 -0.169031 -0.080150 -0.29277  0.650905 -0.29277\n",
              "3  0.338062  2.003744  0.29277  1.862936  0.29277\n",
              "4  0.845154  0.080150  0.87831 -0.426455  0.87831\n",
              "5  1.352247 -0.080150  1.46385 -0.157115  1.46385"
            ]
          },
          "metadata": {
            "tags": []
          },
          "execution_count": 40
        }
      ]
    },
    {
      "cell_type": "code",
      "metadata": {
        "id": "GWo-i60FFMQ0",
        "colab_type": "code",
        "colab": {
          "base_uri": "https://localhost:8080/",
          "height": 126
        },
        "outputId": "023f0981-a0ac-4f9f-fde5-7b21633afdad"
      },
      "source": [
        "##MinMax Scaler:\n",
        "from sklearn.preprocessing import MinMaxScaler\n",
        "ms = MinMaxScaler()\n",
        "ms.fit(standard_data)\n",
        "standard_data = ms.transform(standard_data)\n",
        "standard_data"
      ],
      "execution_count": 42,
      "outputs": [
        {
          "output_type": "execute_result",
          "data": {
            "text/plain": [
              "array([[0.        , 0.15      , 0.        , 0.        , 0.        ],\n",
              "       [0.33333333, 0.        , 0.2       , 0.09090909, 0.2       ],\n",
              "       [0.5       , 0.35      , 0.4       , 0.59090909, 0.4       ],\n",
              "       [0.66666667, 1.        , 0.6       , 1.        , 0.6       ],\n",
              "       [0.83333333, 0.4       , 0.8       , 0.22727273, 0.8       ],\n",
              "       [1.        , 0.35      , 1.        , 0.31818182, 1.        ]])"
            ]
          },
          "metadata": {
            "tags": []
          },
          "execution_count": 42
        }
      ]
    },
    {
      "cell_type": "code",
      "metadata": {
        "id": "fKolzJjTH9C4",
        "colab_type": "code",
        "colab": {
          "base_uri": "https://localhost:8080/",
          "height": 228
        },
        "outputId": "69d78722-8411-4053-829f-59f76f3eb54f"
      },
      "source": [
        "standard_data= pd.DataFrame(standard_data)\n",
        "standard_data"
      ],
      "execution_count": 43,
      "outputs": [
        {
          "output_type": "execute_result",
          "data": {
            "text/html": [
              "<div>\n",
              "<style scoped>\n",
              "    .dataframe tbody tr th:only-of-type {\n",
              "        vertical-align: middle;\n",
              "    }\n",
              "\n",
              "    .dataframe tbody tr th {\n",
              "        vertical-align: top;\n",
              "    }\n",
              "\n",
              "    .dataframe thead th {\n",
              "        text-align: right;\n",
              "    }\n",
              "</style>\n",
              "<table border=\"1\" class=\"dataframe\">\n",
              "  <thead>\n",
              "    <tr style=\"text-align: right;\">\n",
              "      <th></th>\n",
              "      <th>0</th>\n",
              "      <th>1</th>\n",
              "      <th>2</th>\n",
              "      <th>3</th>\n",
              "      <th>4</th>\n",
              "    </tr>\n",
              "  </thead>\n",
              "  <tbody>\n",
              "    <tr>\n",
              "      <th>0</th>\n",
              "      <td>0.000000</td>\n",
              "      <td>0.15</td>\n",
              "      <td>0.0</td>\n",
              "      <td>0.000000</td>\n",
              "      <td>0.0</td>\n",
              "    </tr>\n",
              "    <tr>\n",
              "      <th>1</th>\n",
              "      <td>0.333333</td>\n",
              "      <td>0.00</td>\n",
              "      <td>0.2</td>\n",
              "      <td>0.090909</td>\n",
              "      <td>0.2</td>\n",
              "    </tr>\n",
              "    <tr>\n",
              "      <th>2</th>\n",
              "      <td>0.500000</td>\n",
              "      <td>0.35</td>\n",
              "      <td>0.4</td>\n",
              "      <td>0.590909</td>\n",
              "      <td>0.4</td>\n",
              "    </tr>\n",
              "    <tr>\n",
              "      <th>3</th>\n",
              "      <td>0.666667</td>\n",
              "      <td>1.00</td>\n",
              "      <td>0.6</td>\n",
              "      <td>1.000000</td>\n",
              "      <td>0.6</td>\n",
              "    </tr>\n",
              "    <tr>\n",
              "      <th>4</th>\n",
              "      <td>0.833333</td>\n",
              "      <td>0.40</td>\n",
              "      <td>0.8</td>\n",
              "      <td>0.227273</td>\n",
              "      <td>0.8</td>\n",
              "    </tr>\n",
              "    <tr>\n",
              "      <th>5</th>\n",
              "      <td>1.000000</td>\n",
              "      <td>0.35</td>\n",
              "      <td>1.0</td>\n",
              "      <td>0.318182</td>\n",
              "      <td>1.0</td>\n",
              "    </tr>\n",
              "  </tbody>\n",
              "</table>\n",
              "</div>"
            ],
            "text/plain": [
              "          0     1    2         3    4\n",
              "0  0.000000  0.15  0.0  0.000000  0.0\n",
              "1  0.333333  0.00  0.2  0.090909  0.2\n",
              "2  0.500000  0.35  0.4  0.590909  0.4\n",
              "3  0.666667  1.00  0.6  1.000000  0.6\n",
              "4  0.833333  0.40  0.8  0.227273  0.8\n",
              "5  1.000000  0.35  1.0  0.318182  1.0"
            ]
          },
          "metadata": {
            "tags": []
          },
          "execution_count": 43
        }
      ]
    },
    {
      "cell_type": "code",
      "metadata": {
        "id": "A8zB0fHkIDDF",
        "colab_type": "code",
        "colab": {}
      },
      "source": [
        ""
      ],
      "execution_count": null,
      "outputs": []
    }
  ]
}